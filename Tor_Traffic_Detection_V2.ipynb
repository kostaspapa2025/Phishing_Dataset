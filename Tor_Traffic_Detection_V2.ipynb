{
  "nbformat": 4,
  "nbformat_minor": 0,
  "metadata": {
    "colab": {
      "provenance": [],
      "authorship_tag": "ABX9TyNG8UJps9FD4tYqtiW6Ydyu",
      "include_colab_link": true
    },
    "kernelspec": {
      "name": "python3",
      "display_name": "Python 3"
    },
    "language_info": {
      "name": "python"
    }
  },
  "cells": [
    {
      "cell_type": "markdown",
      "metadata": {
        "id": "view-in-github",
        "colab_type": "text"
      },
      "source": [
        "<a href=\"https://colab.research.google.com/github/kostaspapa2025/Phishing_Dataset/blob/main/Tor_Traffic_Detection_V2.ipynb\" target=\"_parent\"><img src=\"https://colab.research.google.com/assets/colab-badge.svg\" alt=\"Open In Colab\"/></a>"
      ]
    },
    {
      "cell_type": "code",
      "execution_count": 6,
      "metadata": {
        "colab": {
          "base_uri": "https://localhost:8080/"
        },
        "id": "spngwXVYWGhD",
        "outputId": "f99e501c-1d1b-4b25-891e-32d11e53223d"
      },
      "outputs": [
        {
          "output_type": "stream",
          "name": "stderr",
          "text": [
            "<ipython-input-6-8e02bd13381c>:10: DtypeWarning: Columns (18) have mixed types. Specify dtype option on import or set low_memory=False.\n",
            "  df = pd.read_csv(url)\n"
          ]
        },
        {
          "output_type": "stream",
          "name": "stdout",
          "text": [
            "Confusion Matrix:\n",
            " [[13421     8]\n",
            " [   24   254]]\n",
            "\n",
            " Classification Report:\n",
            "               precision    recall  f1-score   support\n",
            "\n",
            "           0       1.00      1.00      1.00     13429\n",
            "           1       0.97      0.91      0.94       278\n",
            "\n",
            "    accuracy                           1.00     13707\n",
            "   macro avg       0.98      0.96      0.97     13707\n",
            "weighted avg       1.00      1.00      1.00     13707\n",
            "\n"
          ]
        }
      ],
      "source": [
        "import pandas as pd\n",
        "import numpy as np\n",
        "from sklearn.model_selection import train_test_split\n",
        "from sklearn.preprocessing import StandardScaler\n",
        "from sklearn.ensemble import RandomForestClassifier\n",
        "from sklearn.metrics import confusion_matrix, classification_report\n",
        "\n",
        "# Φόρτωση αρχείου\n",
        "url = \"https://raw.githubusercontent.com/kdemertzis/EKPA/main/Data/DarkNet.csv\"\n",
        "df = pd.read_csv(url)\n",
        "\n",
        "# Χρήση της σωστής στήλης label\n",
        "def convert_label(x):\n",
        "    if x == 'Tor':\n",
        "        return 1\n",
        "    else:\n",
        "        return 0\n",
        "\n",
        "df['target'] = df['Label-1'].apply(convert_label)\n",
        "\n",
        "# Επιλογή αριθμητικών χαρακτηριστικών\n",
        "X = df.select_dtypes(include='number').drop(columns=['target'])\n",
        "y = df['target']\n",
        "\n",
        "# Καθαρισμός απείρων & NaN\n",
        "X_clean = X.replace([np.inf, -np.inf], np.nan)\n",
        "X_clean = X_clean.dropna()\n",
        "y_clean = y[X_clean.index]\n",
        "\n",
        "# Κανονικοποίηση\n",
        "scaler = StandardScaler()\n",
        "X_scaled = scaler.fit_transform(X_clean)\n",
        "\n",
        "# Διαχωρισμός\n",
        "X_train, X_test, y_train, y_test = train_test_split(\n",
        "    X_scaled, y_clean, test_size=0.2, random_state=42, stratify=y_clean)\n",
        "\n",
        "# Εκπαίδευση Random Forest\n",
        "model = RandomForestClassifier(random_state=42)\n",
        "model.fit(X_train, y_train)\n",
        "\n",
        "# Αξιολόγηση\n",
        "y_pred = model.predict(X_test)\n",
        "print(\"Confusion Matrix:\\n\", confusion_matrix(y_test, y_pred))\n",
        "print(\"\\n Classification Report:\\n\", classification_report(y_test, y_pred))"
      ]
    }
  ]
}